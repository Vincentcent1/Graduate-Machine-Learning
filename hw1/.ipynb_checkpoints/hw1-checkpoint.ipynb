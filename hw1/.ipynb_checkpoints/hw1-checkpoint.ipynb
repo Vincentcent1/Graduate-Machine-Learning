{
 "cells": [
  {
   "cell_type": "markdown",
   "metadata": {},
   "source": [
    "### Inputs = image\n",
    "### Outputs = prediction/label"
   ]
  },
  {
   "cell_type": "code",
   "execution_count": 1,
   "metadata": {},
   "outputs": [],
   "source": [
    "%matplotlib inline\n",
    "from PIL import Image\n",
    "from matplotlib import pyplot as plt\n",
    "import glob\n",
    "import numpy as np\n",
    "import tensorflow as tf\n",
    "import math\n",
    "import cv2"
   ]
  },
  {
   "cell_type": "code",
   "execution_count": 2,
   "metadata": {},
   "outputs": [],
   "source": [
    "bird_label = 1\n",
    "cat_label = -1\n",
    "n_epoch = 50\n",
    "data_size = 40\n",
    "batch_size = 5"
   ]
  },
  {
   "cell_type": "code",
   "execution_count": 3,
   "metadata": {},
   "outputs": [],
   "source": [
    "# im = Image.open('data/train/bird/1.jpg')\n",
    "img = cv2.imread('data/train/bird/1.jpg')\n",
    "hist = cv2.calcHist([img],[0,1,2],None,[8,8,8],[0,256,0,256,0,256])"
   ]
  },
  {
   "cell_type": "code",
   "execution_count": 4,
   "metadata": {},
   "outputs": [
    {
     "data": {
      "text/plain": [
       "(32, 32, 3)"
      ]
     },
     "execution_count": 4,
     "metadata": {},
     "output_type": "execute_result"
    }
   ],
   "source": [
    "img.shape"
   ]
  },
  {
   "cell_type": "markdown",
   "metadata": {},
   "source": [
    "Training data concatenated pixel"
   ]
  },
  {
   "cell_type": "code",
   "execution_count": 5,
   "metadata": {},
   "outputs": [],
   "source": [
    "bird_images = [Image.open(filename) for filename in glob.glob('data/train/bird/*.jpg')]\n",
    "bird_x = tf.convert_to_tensor([list(PIL_img.getdata()) for PIL_img in bird_images])\n",
    "bird_y = tf.fill([bird_x.shape[0]],bird_label)\n",
    "\n",
    "cat_images = [Image.open(filename) for filename in glob.glob('data/train/cat/*.jpg')]\n",
    "cat_x = tf.convert_to_tensor([list(PIL_img.getdata()) for PIL_img in cat_images])\n",
    "cat_y = tf.fill([cat_x.shape[0]],cat_label)\n",
    "\n",
    "X = tf.cast(tf.reshape(tf.concat([bird_x,cat_x], axis=0),[40,-1]),dtype=tf.float32)/256\n",
    "Y = tf.reshape(tf.concat([bird_y,cat_y], axis=0),[40,-1])\n",
    "data = tf.data.Dataset.from_tensor_slices((X,Y))\n",
    "data = data.shuffle(buffer_size=1000)\n",
    "data = data.batch(batch_size)\n",
    "data = data.repeat(n_epoch)\n",
    "iterator = tf.data.Iterator.from_structure(data.output_types,data.output_shapes)\n",
    "next_batch = iterator.get_next()\n",
    "training_init_op = iterator.make_initializer(data)"
   ]
  },
  {
   "cell_type": "markdown",
   "metadata": {},
   "source": [
    "Testing data concatenated pixel"
   ]
  },
  {
   "cell_type": "code",
   "execution_count": 6,
   "metadata": {},
   "outputs": [],
   "source": [
    "bird_images_test = [Image.open(filename) for filename in glob.glob('data/test/bird/*.jpg')]\n",
    "bird_x_test = tf.convert_to_tensor([list(PIL_img.getdata()) for PIL_img in bird_images_test])\n",
    "bird_y_test = tf.fill([bird_x_test.shape[0]],bird_label)\n",
    "\n",
    "cat_images_test = [Image.open(filename) for filename in glob.glob('data/test/cat/*.jpg')]\n",
    "cat_x_test = tf.convert_to_tensor([list(PIL_img.getdata()) for PIL_img in cat_images_test])\n",
    "cat_y_test = tf.fill([cat_x_test.shape[0]],cat_label)\n",
    "\n",
    "test_size = len(bird_images_test)\n",
    "\n",
    "X_test = tf.cast(tf.reshape(tf.concat([bird_x_test,cat_x_test], axis=0),[40,-1]),dtype=tf.float32)/256\n",
    "Y_test = tf.reshape(tf.concat([bird_y_test,cat_y_test], axis=0),[40,-1])\n",
    "data_test = tf.data.Dataset.from_tensor_slices((X_test,Y_test))\n",
    "data_test = data_test.shuffle(buffer_size=1000)\n",
    "data_test = data_test.batch(batch_size)\n",
    "data_test = data_test.repeat(n_epoch)\n",
    "iterator_test = tf.data.Iterator.from_structure(data_test.output_types,data_test.output_shapes)\n",
    "next_batch_test = iterator_test.get_next()\n",
    "testing_init_op = iterator_test.make_initializer(data_test)"
   ]
  },
  {
   "cell_type": "markdown",
   "metadata": {},
   "source": [
    "Training data image histogram"
   ]
  },
  {
   "cell_type": "code",
   "execution_count": 7,
   "metadata": {},
   "outputs": [],
   "source": [
    "bird_images_hist = [cv2.imread(filename) for filename in glob.glob('data/train/bird/*.jpg')]\n",
    "bird_x_hist = tf.stack([cv2.calcHist([img],[0,1,2],None,[8,8,8],[0,256,0,256,0,256]) for img in bird_images_hist])\n",
    "bird_y_hist = tf.fill([bird_x_hist.shape[0]],bird_label)\n",
    "\n",
    "cat_images_hist = [cv2.imread(filename) for filename in glob.glob('data/train/cat/*.jpg')]\n",
    "cat_x_hist = tf.stack([cv2.calcHist([img],[0,1,2],None,[8,8,8],[0,256,0,256,0,256]) for img in cat_images_hist])\n",
    "cat_y_hist = tf.fill([cat_x_hist.shape[0]],cat_label)\n",
    "\n",
    "X_hist = tf.cast(tf.reshape(tf.concat([bird_x_hist,cat_x_hist], axis=0),[40,-1]),dtype=tf.float32)/256\n",
    "Y_hist = tf.reshape(tf.concat([bird_y_hist,cat_y_hist], axis=0),[40,-1])\n",
    "data_hist = tf.data.Dataset.from_tensor_slices((X_hist,Y_hist))\n",
    "data_hist = data_hist.shuffle(buffer_size=1000)\n",
    "data_hist = data_hist.batch(batch_size)\n",
    "data_hist = data_hist.repeat(n_epoch)\n",
    "iterator_hist = tf.data.Iterator.from_structure(data_hist.output_types,data_hist.output_shapes)\n",
    "next_batch_hist = iterator_hist.get_next()\n",
    "training_init_op_hist = iterator_hist.make_initializer(data_hist)"
   ]
  },
  {
   "cell_type": "markdown",
   "metadata": {},
   "source": [
    "Testing data image histogram"
   ]
  },
  {
   "cell_type": "code",
   "execution_count": 8,
   "metadata": {},
   "outputs": [],
   "source": [
    "bird_images_hist_test = [cv2.imread(filename) for filename in glob.glob('data/test/bird/*.jpg')]\n",
    "bird_x_hist_test = tf.stack([cv2.calcHist([img],[0,1,2],None,[8,8,8],[0,256,0,256,0,256]) for img in bird_images_hist_test])\n",
    "bird_y_hist_test = tf.fill([bird_x_hist_test.shape[0]],bird_label)\n",
    "\n",
    "cat_images_hist_test = [cv2.imread(filename) for filename in glob.glob('data/test/cat/*.jpg')]\n",
    "cat_x_hist_test = tf.stack([cv2.calcHist([img],[0,1,2],None,[8,8,8],[0,256,0,256,0,256]) for img in cat_images_hist_test])\n",
    "cat_y_hist_test = tf.fill([cat_x_hist_test.shape[0]],cat_label)\n",
    "\n",
    "X_hist_test = tf.cast(tf.reshape(tf.concat([bird_x_hist_test,cat_x_hist_test], axis=0),[40,-1]),dtype=tf.float32)/256\n",
    "Y_hist_test = tf.reshape(tf.concat([bird_y_hist_test,cat_y_hist_test], axis=0),[40,-1])\n",
    "data_hist_test = tf.data.Dataset.from_tensor_slices((X_hist_test,Y_hist_test))\n",
    "data_hist_test = data_hist_test.shuffle(buffer_size=1000)\n",
    "data_hist_test = data_hist_test.batch(batch_size)\n",
    "data_hist_test = data_hist_test.repeat(n_epoch)\n",
    "iterator_hist_test = tf.data.Iterator.from_structure(data_hist_test.output_types,data_hist_test.output_shapes)\n",
    "next_batch_hist_test = iterator_hist_test.get_next()\n",
    "testing_init_op_hist = iterator_hist_test.make_initializer(data_hist_test)"
   ]
  },
  {
   "cell_type": "code",
   "execution_count": 9,
   "metadata": {},
   "outputs": [],
   "source": [
    "def logisticLoss(theta,x,y):\n",
    "    '''\n",
    "    theta is dim x 1\n",
    "    x is batch_size x dim\n",
    "    y is batch_size x 1\n",
    "    '''\n",
    "    z = y*tf.matmul(x,theta)\n",
    "    log = tf.log(1 + tf.exp(-z))\n",
    "    loss = tf.reduce_sum(log,axis=0)\n",
    "    return loss"
   ]
  },
  {
   "cell_type": "code",
   "execution_count": 10,
   "metadata": {},
   "outputs": [],
   "source": [
    "def hingeLoss(theta,x,y):\n",
    "    z = y*tf.matmul(x,theta)\n",
    "    z_ = 1 - z\n",
    "    hingeLoss = tf.where(tf.math.greater_equal(z_,tf.fill(z_.shape,0.)),z_,tf.fill(z.shape,0.))\n",
    "    loss = tf.reduce_sum(hingeLoss,axis=0)\n",
    "    return loss"
   ]
  },
  {
   "cell_type": "code",
   "execution_count": 11,
   "metadata": {},
   "outputs": [],
   "source": [
    "dim = 3*1024\n",
    "lr = tf.placeholder(tf.float32,[])\n",
    "x = tf.placeholder(tf.float32, [batch_size,dim], name='x')\n",
    "y = tf.placeholder(tf.float32, [batch_size,1], name='y')\n",
    "w = tf.get_variable('weights', shape=[dim,1], initializer=tf.random_normal_initializer)\n",
    "\n",
    "loss = logisticLoss(w,x,y)/batch_size\n",
    "# loss = hingeLoss(w,x,y)/batch_size\n",
    "\n",
    "grad_loss = tf.gradients(loss,w)\n",
    "train_op = w.assign(w - tf.scalar_mul(lr,grad_loss[0]))\n",
    "sigm = tf.sigmoid(tf.matmul(x,w))\n",
    "test_op = tf.where(tf.math.greater_equal(sigm,0.5),tf.fill(sigm.shape,1),tf.fill(sigm.shape,-1))"
   ]
  },
  {
   "cell_type": "code",
   "execution_count": 12,
   "metadata": {},
   "outputs": [],
   "source": [
    "dim_hist = 512\n",
    "lr_hist = tf.placeholder(tf.float32,[])\n",
    "x_hist = tf.placeholder(tf.float32, [batch_size,dim_hist], name='x_hist')\n",
    "y_hist = tf.placeholder(tf.float32, [batch_size,1], name='y_hist')\n",
    "w_hist = tf.get_variable('weights_hist', shape=[dim_hist,1], initializer=tf.random_normal_initializer)\n",
    "\n",
    "loss_hist = logisticLoss(w_hist,x_hist,y_hist)/batch_size\n",
    "# loss_hist = hingeLoss(w_hist,x_hist,y_hist)/batch_size\n",
    "\n",
    "grad_loss_hist = tf.gradients(loss_hist,w_hist)\n",
    "train_op_hist = w_hist.assign(w_hist - tf.scalar_mul(lr_hist,grad_loss_hist[0]))\n",
    "sigm_hist = tf.sigmoid(tf.matmul(x_hist,w_hist))\n",
    "test_op_hist = tf.where(tf.math.greater_equal(sigm_hist,0.5),tf.fill(sigm_hist.shape,1),tf.fill(sigm_hist.shape,-1))"
   ]
  },
  {
   "cell_type": "markdown",
   "metadata": {},
   "source": [
    "without histogram"
   ]
  },
  {
   "cell_type": "code",
   "execution_count": 18,
   "metadata": {},
   "outputs": [
    {
     "name": "stdout",
     "output_type": "stream",
     "text": [
      "Accuracy:0.5\n",
      "Accuracy:0.55\n",
      "Accuracy:0.55\n",
      "Accuracy:0.35\n",
      "Accuracy:0.6\n",
      "Average accuracy: 0.51\n"
     ]
    },
    {
     "data": {
      "text/plain": [
       "[<matplotlib.lines.Line2D at 0x7f690eb62048>]"
      ]
     },
     "execution_count": 18,
     "metadata": {},
     "output_type": "execute_result"
    },
    {
     "data": {
      "image/png": "[encoded data removed]",
      "text/plain": [
       "<Figure size 432x288 with 1 Axes>"
      ]
     },
     "metadata": {
      "needs_background": "light"
     },
     "output_type": "display_data"
    }
   ],
   "source": [
    "losses_list = []\n",
    "dimension= 3*1024\n",
    "with tf.Session() as sess:\n",
    "    totalAcc = 0\n",
    "    for i in range(5):\n",
    "        sess.run(tf.global_variables_initializer())\n",
    "        sess.run(training_init_op)\n",
    "        for i in range(n_epoch):\n",
    "            for i2 in range(data_size//batch_size):\n",
    "                X_batch, Y_batch = sess.run(next_batch)\n",
    "                _,loss_out = sess.run([train_op,loss],feed_dict={x:X_batch, y:Y_batch, lr:0.1})\n",
    "    #         print(loss_out)\n",
    "            losses_list.append(loss_out)\n",
    "        sess.run(testing_init_op)\n",
    "        acc = 0.\n",
    "        for i in range(test_size//batch_size):\n",
    "            X_batch, Y_batch = sess.run(next_batch_test)\n",
    "            pred = sess.run(test_op,feed_dict={x:X_batch,y:Y_batch,lr:0.1})\n",
    "    #         print(pred == Y_batch)\n",
    "            acc += np.sum(np.where(pred == Y_batch, np.full(pred.shape,1),np.full(pred.shape,0)))\n",
    "        acc = acc/test_size\n",
    "        print('Accuracy:{}'.format(acc))\n",
    "        totalAcc += acc\n",
    "    print(\"Average accuracy: {}\".format(totalAcc/5))\n",
    "plt.plot(range(n_epoch*5),losses_list)"
   ]
  },
  {
   "cell_type": "markdown",
   "metadata": {},
   "source": [
    "With histogram"
   ]
  },
  {
   "cell_type": "code",
   "execution_count": 26,
   "metadata": {},
   "outputs": [
    {
     "name": "stdout",
     "output_type": "stream",
     "text": [
      "Accuracy:0.55\n",
      "Accuracy:0.55\n",
      "Accuracy:0.65\n",
      "Accuracy:0.5\n",
      "Accuracy:0.6\n",
      "Average accuracy: 0.5700000000000001\n"
     ]
    },
    {
     "data": {
      "text/plain": [
       "[<matplotlib.lines.Line2D at 0x7f690eab2630>]"
      ]
     },
     "execution_count": 26,
     "metadata": {},
     "output_type": "execute_result"
    },
    {
     "data": {
      "image/png": "[encoded data removed]",
      "text/plain": [
       "<Figure size 432x288 with 1 Axes>"
      ]
     },
     "metadata": {
      "needs_background": "light"
     },
     "output_type": "display_data"
    }
   ],
   "source": [
    "losses_list = []\n",
    "dimension= 512\n",
    "with tf.Session() as sess:\n",
    "    totalAcc = 0\n",
    "    for i in range(5):\n",
    "        sess.run(tf.global_variables_initializer())\n",
    "        sess.run(training_init_op_hist)\n",
    "        for i in range(n_epoch):\n",
    "            for i2 in range(data_size//batch_size):\n",
    "                X_batch, Y_batch = sess.run(next_batch_hist)\n",
    "                _,loss_out = sess.run([train_op_hist,loss_hist],feed_dict={x_hist:X_batch, y_hist:Y_batch,lr_hist:0.1})\n",
    "    #         print(loss_out)\n",
    "            losses_list.append(loss_out)\n",
    "    #     sess.run(training_init_op_hist)\n",
    "        sess.run(testing_init_op_hist)\n",
    "        acc = 0.\n",
    "        for i in range(test_size//batch_size):\n",
    "            X_batch, Y_batch = sess.run(next_batch_hist_test)\n",
    "            pred = sess.run(test_op_hist,feed_dict={x_hist:X_batch,y_hist:Y_batch,lr_hist:0.11})\n",
    "    #         print(pred == Y_batch)\n",
    "            acc += np.sum(np.where(pred == Y_batch, np.full(pred.shape,1),np.full(pred.shape,0)))\n",
    "        acc = acc/test_size\n",
    "        print('Accuracy:{}'.format(acc))\n",
    "        totalAcc += acc\n",
    "    print(\"Average accuracy: {}\".format(totalAcc/5))\n",
    "        \n",
    "plt.plot(range(n_epoch*5),losses_list)"
   ]
  },
  {
   "cell_type": "code",
   "execution_count": null,
   "metadata": {},
   "outputs": [],
   "source": []
  }
 ],
 "metadata": {
  "kernelspec": {
   "display_name": "Python [conda env:tf36]",
   "language": "python",
   "name": "conda-env-tf36-py"
  },
  "language_info": {
   "codemirror_mode": {
    "name": "ipython",
    "version": 3
   },
   "file_extension": ".py",
   "mimetype": "text/x-python",
   "name": "python",
   "nbconvert_exporter": "python",
   "pygments_lexer": "ipython3",
   "version": "3.6.6"
  }
 },
 "nbformat": 4,
 "nbformat_minor": 2
}
