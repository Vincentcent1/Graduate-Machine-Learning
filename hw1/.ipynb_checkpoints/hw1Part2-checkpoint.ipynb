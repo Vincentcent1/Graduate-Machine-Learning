{
 "cells": [
  {
   "cell_type": "code",
   "execution_count": 1,
   "metadata": {},
   "outputs": [],
   "source": [
    "from sklearn.neighbors import KNeighborsClassifier\n",
    "import cv2\n",
    "import glob\n",
    "import numpy as np"
   ]
  },
  {
   "cell_type": "code",
   "execution_count": 2,
   "metadata": {},
   "outputs": [],
   "source": [
    "bird_label = 0\n",
    "cat_label = 1\n",
    "automobile_label = 2\n",
    "airplane_label = 3"
   ]
  },
  {
   "cell_type": "code",
   "execution_count": 3,
   "metadata": {},
   "outputs": [],
   "source": [
    "bird_images = [cv2.resize(cv2.imread(filename),(32,32)) for filename in glob.glob('data/train/bird_new/*.jpg')]\n",
    "bird_Y = np.full([len(bird_images)],bird_label)\n",
    "\n",
    "cat_images = [cv2.resize(cv2.imread(filename),(32,32)) for filename in glob.glob('data/train/cat_new/*.jpg')]\n",
    "cat_Y = np.full([len(cat_images)],cat_label)\n",
    "\n",
    "automobile_images = [cv2.resize(cv2.imread(filename),(32,32)) for filename in glob.glob('data/train/automobile_new/*.jpg')]\n",
    "automobile_Y = np.full([len(automobile_images)],automobile_label)\n",
    "\n",
    "airplane_images = [cv2.resize(cv2.imread(filename),(32,32)) for filename in glob.glob('data/train/airplane_new/*.jpg')]\n",
    "airplane_Y = np.full([len(airplane_images)],airplane_label)"
   ]
  },
  {
   "cell_type": "code",
   "execution_count": 4,
   "metadata": {},
   "outputs": [],
   "source": [
    "bird_images_test = [cv2.imread(filename) for filename in glob.glob('data/test/bird/*.jpg')]\n",
    "bird_Y_test = np.full([20],bird_label)\n",
    "\n",
    "cat_images_test = [cv2.imread(filename) for filename in glob.glob('data/test/cat/*.jpg')]\n",
    "cat_Y_test = np.full([20],cat_label)\n",
    "\n",
    "automobile_images_test = [cv2.imread(filename) for filename in glob.glob('data/test/automobile/*.jpg')]\n",
    "automobile_Y_test = np.full([20],automobile_label)\n",
    "\n",
    "airplane_images_test = [cv2.imread(filename) for filename in glob.glob('data/test/airplane/*.jpg')]\n",
    "airplane_Y_test = np.full([20],airplane_label)"
   ]
  },
  {
   "cell_type": "code",
   "execution_count": 5,
   "metadata": {},
   "outputs": [],
   "source": [
    "X = []\n",
    "for i in [bird_images,cat_images,automobile_images,airplane_images]:\n",
    "    X.extend(i)\n",
    "X = np.reshape(np.array(X),[len(X),-1])"
   ]
  },
  {
   "cell_type": "code",
   "execution_count": 6,
   "metadata": {},
   "outputs": [],
   "source": [
    "X_test = []\n",
    "for i in [bird_images_test,cat_images_test,automobile_images_test,airplane_images_test]:\n",
    "    X_test.extend(i)\n",
    "X_test = np.reshape(np.array(X_test),[80,-1])"
   ]
  },
  {
   "cell_type": "code",
   "execution_count": 7,
   "metadata": {},
   "outputs": [],
   "source": [
    "y = np.concatenate((bird_Y,cat_Y,automobile_Y,airplane_Y))\n",
    "y_test = np.concatenate((bird_Y_test,cat_Y_test,automobile_Y_test,airplane_Y_test))"
   ]
  },
  {
   "cell_type": "code",
   "execution_count": 8,
   "metadata": {},
   "outputs": [
    {
     "name": "stdout",
     "output_type": "stream",
     "text": [
      "k=1, Accuracy:0.4125\n",
      "k=2, Accuracy:0.3875\n",
      "k=3, Accuracy:0.325\n",
      "k=4, Accuracy:0.3625\n",
      "k=5, Accuracy:0.375\n",
      "k=6, Accuracy:0.45\n"
     ]
    }
   ],
   "source": [
    "for k in range(1,7):\n",
    "    neigh = KNeighborsClassifier(n_neighbors=k)\n",
    "    neigh.fit(X,y)\n",
    "    print('k={}, Accuracy:{}'.format(k,neigh.score(X_test,y_test)))"
   ]
  },
  {
   "cell_type": "code",
   "execution_count": null,
   "metadata": {},
   "outputs": [],
   "source": []
  }
 ],
 "metadata": {
  "kernelspec": {
   "display_name": "Python [conda env:tf36]",
   "language": "python",
   "name": "conda-env-tf36-py"
  },
  "language_info": {
   "codemirror_mode": {
    "name": "ipython",
    "version": 3
   },
   "file_extension": ".py",
   "mimetype": "text/x-python",
   "name": "python",
   "nbconvert_exporter": "python",
   "pygments_lexer": "ipython3",
   "version": "3.6.6"
  }
 },
 "nbformat": 4,
 "nbformat_minor": 2
}
